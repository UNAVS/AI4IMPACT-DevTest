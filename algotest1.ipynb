{
 "cells": [
  {
   "cell_type": "markdown",
   "metadata": {},
   "source": [
    "Import Library"
   ]
  },
  {
   "cell_type": "code",
   "execution_count": 1,
   "metadata": {},
   "outputs": [],
   "source": [
    "from time import sleep\n",
    "import datetime\n",
    "from numpy import random\n",
    "from statistics import mean"
   ]
  },
  {
   "cell_type": "markdown",
   "metadata": {},
   "source": [
    "Input Interval Waktu"
   ]
  },
  {
   "cell_type": "code",
   "execution_count": 2,
   "metadata": {},
   "outputs": [
    {
     "name": "stdout",
     "output_type": "stream",
     "text": [
      "Volume Air Rata-Rata Akan Dihitung Tiap 1 Menit, Selama 5 Menit\n"
     ]
    }
   ],
   "source": [
    "type_interval = input(\"Rata-Rata Dihitung Setiap? Menit / Jam / Hari | =>\")\n",
    "amount_interval = int(input(\"Setiap Berapa Menit/Jam/Hari? Satuan Sesuai Pilihan Sebelumnya | Contoh Input: 1 | =>\"))\n",
    "long_interval = int(input(\"Berapa Lama Data Direkam? Satuan Sesuai Pilihan Sebelumnya | Contoh Input: 1 | =>\"))\n",
    "if type_interval == \"Menit\":\n",
    "    interval = amount_interval * 60\n",
    "elif type_interval == \"Jam\":\n",
    "    interval = amount_interval * 60 * 60\n",
    "elif type_interval == \"Hari\":\n",
    "    interval = amount_interval * 60 * 60 * 24\n",
    "print(f\"Volume Air Rata-Rata Akan Dihitung Tiap {amount_interval} {type_interval}, Selama {long_interval} {type_interval}\")"
   ]
  },
  {
   "cell_type": "markdown",
   "metadata": {},
   "source": [
    "Looping Kalkulasi Rata-Rata"
   ]
  },
  {
   "cell_type": "code",
   "execution_count": 5,
   "metadata": {},
   "outputs": [
    {
     "name": "stdout",
     "output_type": "stream",
     "text": [
      "2023-08-14 22:52 | Average Volume: 99.54\n",
      "2023-08-14 22:53 | Average Volume: 99.76\n",
      "2023-08-14 22:54 | Average Volume: 100.89\n",
      "2023-08-14 22:55 | Average Volume: 100.56\n",
      "2023-08-14 22:56 | Average Volume: 97.62\n"
     ]
    }
   ],
   "source": [
    "# Loop Lama Rekam Data\n",
    "for _ in range(long_interval):\n",
    "  average = []    # Variabel List Penampung Data\n",
    "  current_time_m = datetime.datetime.now().strftime(\"%Y-%m-%d %H:%M\") # Record Waktu\n",
    "  # Loop Kalkulasi Rata-Rata per Detik\n",
    "  for _ in range(interval):\n",
    "    # Simulasi Pembacaan Data Sensor Melalui Distribusi Normal\n",
    "    volume = round(random.normal(loc=100, scale=10), 2)\n",
    "    average.append(volume)  # Masukkan Bacaan Volume per Detik ke Dalam List\n",
    "    sleep(1)  # Simulasi Pembacaan Agar Hanya Terjadi Tiap 1 Detik\n",
    "  print(f\"{current_time_m} | Average Volume: {round(mean(average), 2)}\")"
   ]
  }
 ],
 "metadata": {
  "kernelspec": {
   "display_name": "Python 3",
   "language": "python",
   "name": "python3"
  },
  "language_info": {
   "codemirror_mode": {
    "name": "ipython",
    "version": 3
   },
   "file_extension": ".py",
   "mimetype": "text/x-python",
   "name": "python",
   "nbconvert_exporter": "python",
   "pygments_lexer": "ipython3",
   "version": "3.10.1"
  },
  "orig_nbformat": 4
 },
 "nbformat": 4,
 "nbformat_minor": 2
}
