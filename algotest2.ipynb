{
 "cells": [
  {
   "cell_type": "markdown",
   "metadata": {},
   "source": [
    "Import Library"
   ]
  },
  {
   "cell_type": "code",
   "execution_count": 1,
   "metadata": {},
   "outputs": [],
   "source": [
    "from time import sleep\n",
    "import datetime\n",
    "from numpy import random\n",
    "from statistics import median"
   ]
  },
  {
   "cell_type": "markdown",
   "metadata": {},
   "source": [
    "Looping Kalkulasi Median"
   ]
  },
  {
   "cell_type": "code",
   "execution_count": 4,
   "metadata": {},
   "outputs": [
    {
     "name": "stdout",
     "output_type": "stream",
     "text": [
      "2023-08-14 23:07:05 | Median Volume: 700.81\n",
      "2023-08-14 23:07:06 | Median Volume: 370.5\n",
      "2023-08-14 23:07:07 | Median Volume: 764.72\n",
      "2023-08-14 23:07:08 | Median Volume: 774.69\n",
      "2023-08-14 23:07:09 | Median Volume: 559.38\n",
      "2023-08-14 23:07:10 | Median Volume: 595.39\n",
      "2023-08-14 23:07:12 | Median Volume: 378.51\n",
      "2023-08-14 23:07:13 | Median Volume: 508.77\n",
      "2023-08-14 23:07:14 | Median Volume: 474.85\n",
      "2023-08-14 23:07:15 | Median Volume: 460.89\n"
     ]
    },
    {
     "ename": "KeyboardInterrupt",
     "evalue": "",
     "output_type": "error",
     "traceback": [
      "\u001b[1;31m---------------------------------------------------------------------------\u001b[0m",
      "\u001b[1;31mKeyboardInterrupt\u001b[0m                         Traceback (most recent call last)",
      "\u001b[1;32m~\\AppData\\Local\\Temp/ipykernel_17564/4117407400.py\u001b[0m in \u001b[0;36m<module>\u001b[1;34m\u001b[0m\n\u001b[0;32m      8\u001b[0m     \u001b[0mvolume\u001b[0m \u001b[1;33m=\u001b[0m \u001b[0mround\u001b[0m\u001b[1;33m(\u001b[0m\u001b[0mrandom\u001b[0m\u001b[1;33m.\u001b[0m\u001b[0muniform\u001b[0m\u001b[1;33m(\u001b[0m\u001b[1;36m0\u001b[0m\u001b[1;33m,\u001b[0m \u001b[1;36m1000\u001b[0m\u001b[1;33m)\u001b[0m\u001b[1;33m,\u001b[0m \u001b[1;36m2\u001b[0m\u001b[1;33m)\u001b[0m\u001b[1;33m\u001b[0m\u001b[1;33m\u001b[0m\u001b[0m\n\u001b[0;32m      9\u001b[0m     \u001b[0mmed\u001b[0m\u001b[1;33m.\u001b[0m\u001b[0mappend\u001b[0m\u001b[1;33m(\u001b[0m\u001b[0mvolume\u001b[0m\u001b[1;33m)\u001b[0m   \u001b[1;31m# Masukkan Bacaan Volume per Detik ke Dalam List\u001b[0m\u001b[1;33m\u001b[0m\u001b[1;33m\u001b[0m\u001b[0m\n\u001b[1;32m---> 10\u001b[1;33m     \u001b[0msleep\u001b[0m\u001b[1;33m(\u001b[0m\u001b[1;36m0.1\u001b[0m\u001b[1;33m)\u001b[0m   \u001b[1;31m# Simulasi Pembacaan Agar Hanya Terjadi Tiap 0.1 Detik\u001b[0m\u001b[1;33m\u001b[0m\u001b[1;33m\u001b[0m\u001b[0m\n\u001b[0m\u001b[0;32m     11\u001b[0m   \u001b[0mprint\u001b[0m\u001b[1;33m(\u001b[0m\u001b[1;34mf\"{current_time_m} | Median Volume: {round(median(med), 2)}\"\u001b[0m\u001b[1;33m)\u001b[0m\u001b[1;33m\u001b[0m\u001b[1;33m\u001b[0m\u001b[0m\n",
      "\u001b[1;31mKeyboardInterrupt\u001b[0m: "
     ]
    }
   ],
   "source": [
    "# Loop Rekam Data Selamanya\n",
    "while True:\n",
    "  med = []   # Variabel List Penampung Data\n",
    "  current_time_m = datetime.datetime.now().strftime(\"%Y-%m-%d %H:%M:%S\") # Record Waktu\n",
    "  # Loop Kalkulasi Median Dengan Asumsi Pembacaan Tiap 0.1 Detik \n",
    "  for _ in range(10):\n",
    "     # Simulasi Pembacaan Data Sensor Dengan Range 0-1000\n",
    "    volume = round(random.uniform(0, 1000), 2)\n",
    "    med.append(volume)   # Masukkan Bacaan Volume per Detik ke Dalam List\n",
    "    sleep(0.1)   # Simulasi Pembacaan Agar Hanya Terjadi Tiap 0.1 Detik\n",
    "  print(f\"{current_time_m} | Median Volume: {round(median(med), 2)}\")"
   ]
  }
 ],
 "metadata": {
  "kernelspec": {
   "display_name": "Python 3",
   "language": "python",
   "name": "python3"
  },
  "language_info": {
   "codemirror_mode": {
    "name": "ipython",
    "version": 3
   },
   "file_extension": ".py",
   "mimetype": "text/x-python",
   "name": "python",
   "nbconvert_exporter": "python",
   "pygments_lexer": "ipython3",
   "version": "3.10.1"
  },
  "orig_nbformat": 4
 },
 "nbformat": 4,
 "nbformat_minor": 2
}
